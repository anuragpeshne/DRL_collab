{
 "cells": [
  {
   "cell_type": "markdown",
   "id": "984a335c",
   "metadata": {},
   "source": [
    "# Collaboration and Competition"
   ]
  },
  {
   "cell_type": "markdown",
   "id": "ea365d6d",
   "metadata": {},
   "source": [
    "## 1. Start the Environment"
   ]
  },
  {
   "cell_type": "code",
   "execution_count": 1,
   "id": "642f008b",
   "metadata": {},
   "outputs": [],
   "source": [
    "import gym\n",
    "import numpy as np\n",
    "import random\n",
    "import torch\n",
    "import time # for perf count\n",
    "\n",
    "from collections import deque\n",
    "from unityagents import UnityEnvironment\n",
    "import matplotlib.pyplot as plt\n",
    "%matplotlib inline"
   ]
  },
  {
   "cell_type": "markdown",
   "id": "4db68757",
   "metadata": {},
   "source": [
    "Next, we will start the environment! Before running the code cell below, change the file_name parameter to match the location of the Unity environment that you downloaded.\n",
    "\n",
    "- Mac: \"path/to/Tennis.app\"\n",
    "- Windows (x86): \"path/to/Tennis_Windows_x86/Tennis.exe\"\n",
    "- Windows (x86_64): \"path/to/Tennis_Windows_x86_64/Tennis.exe\"\n",
    "- Linux (x86): \"path/to/Tennis_Linux/Tennis.x86\"\n",
    "- Linux (x86_64): \"path/to/Tennis_Linux/Tennis.x86_64\"\n",
    "- Linux (x86, headless): \"path/to/Tennis_Linux_NoVis/Tennis.x86\"\n",
    "- Linux (x86_64, headless): \"path/to/Tennis_Linux_NoVis/Tennis.x86_64\"\n",
    "\n",
    "For instance, if you are using a Mac, then you downloaded Tennis.app. If this file is in the same folder as the notebook, then the line below should appear as follows:\n",
    "\n",
    "env = UnityEnvironment(file_name=\"Tennis.app\")"
   ]
  },
  {
   "cell_type": "code",
   "execution_count": 2,
   "id": "8b93431c",
   "metadata": {},
   "outputs": [
    {
     "name": "stderr",
     "output_type": "stream",
     "text": [
      "INFO:unityagents:\n",
      "'Academy' started successfully!\n",
      "Unity Academy name: Academy\n",
      "        Number of Brains: 1\n",
      "        Number of External Brains : 1\n",
      "        Lesson number : 0\n",
      "        Reset Parameters :\n",
      "\t\t\n",
      "Unity brain name: TennisBrain\n",
      "        Number of Visual Observations (per agent): 0\n",
      "        Vector Observation space type: continuous\n",
      "        Vector Observation space size (per agent): 8\n",
      "        Number of stacked Vector Observation: 3\n",
      "        Vector Action space type: continuous\n",
      "        Vector Action space size (per agent): 2\n",
      "        Vector Action descriptions: , \n"
     ]
    }
   ],
   "source": [
    "env = UnityEnvironment(file_name=\"unity_env/Tennis.x86_64\")"
   ]
  },
  {
   "cell_type": "markdown",
   "id": "933954ce",
   "metadata": {},
   "source": [
    "Environments contain brains which are responsible for deciding the actions of their associated agents. Here we check for the first brain available, and set it as the default brain we will be controlling from Python."
   ]
  },
  {
   "cell_type": "code",
   "execution_count": 3,
   "id": "7aef862e",
   "metadata": {},
   "outputs": [],
   "source": [
    "# get the default brain\n",
    "brain_name = env.brain_names[0]\n",
    "brain = env.brains[brain_name]"
   ]
  },
  {
   "cell_type": "markdown",
   "id": "71f9d724",
   "metadata": {},
   "source": [
    "## 2. Examine the State and Action Spaces"
   ]
  },
  {
   "cell_type": "markdown",
   "id": "f95ec7b6",
   "metadata": {},
   "source": [
    "In this environment, two agents control rackets to bounce a ball over a net. If an agent hits the ball over the net, it receives a reward of +0.1. If an agent lets a ball hit the ground or hits the ball out of bounds, it receives a reward of -0.01. Thus, the goal of each agent is to keep the ball in play.\n",
    "\n",
    "The observation space consists of 8 variables corresponding to the position and velocity of the ball and racket. Two continuous actions are available, corresponding to movement toward (or away from) the net, and jumping.\n",
    "\n",
    "Run the code cell below to print some information about the environment."
   ]
  },
  {
   "cell_type": "code",
   "execution_count": 4,
   "id": "9f749194",
   "metadata": {},
   "outputs": [
    {
     "name": "stdout",
     "output_type": "stream",
     "text": [
      "Number of agents: 2\n",
      "Size of each action: 2\n",
      "There are 2 agents. Each observes a state with length: 24\n",
      "The state for the first agent looks like: [ 0.          0.          0.          0.          0.          0.\n",
      "  0.          0.          0.          0.          0.          0.\n",
      "  0.          0.          0.          0.         -6.65278625 -1.5\n",
      " -0.          0.          6.83172083  6.         -0.          0.        ]\n",
      "States shape: (2, 24)\n"
     ]
    }
   ],
   "source": [
    "# reset the environment\n",
    "env_info = env.reset(train_mode=True)[brain_name]\n",
    "\n",
    "# number of agents \n",
    "num_agents = len(env_info.agents)\n",
    "print('Number of agents:', num_agents)\n",
    "\n",
    "# size of each action\n",
    "action_size = brain.vector_action_space_size\n",
    "print('Size of each action:', action_size)\n",
    "\n",
    "# examine the state space \n",
    "states = env_info.vector_observations\n",
    "state_size = states.shape[1]\n",
    "print('There are {} agents. Each observes a state with length: {}'.format(states.shape[0], state_size))\n",
    "print('The state for the first agent looks like:', states[0])\n",
    "print('States shape:', states.shape)"
   ]
  },
  {
   "cell_type": "markdown",
   "id": "5f771c69",
   "metadata": {},
   "source": [
    "## 3. Train Agents with MADDPG"
   ]
  },
  {
   "cell_type": "markdown",
   "id": "bf11d2da",
   "metadata": {},
   "source": [
    "### 3.1 Instantiate Agents"
   ]
  },
  {
   "cell_type": "code",
   "execution_count": 5,
   "id": "9eceefb5",
   "metadata": {},
   "outputs": [],
   "source": [
    "from maddpg_agent import MADDPG\n",
    "\n",
    "random_seed = 12"
   ]
  },
  {
   "cell_type": "markdown",
   "id": "d311e515",
   "metadata": {},
   "source": [
    "#### 3.1.2 Create Agents"
   ]
  },
  {
   "cell_type": "code",
   "execution_count": 6,
   "id": "7a0bfd05",
   "metadata": {},
   "outputs": [],
   "source": [
    "agent = MADDPG(state_size, action_size, random_seed, num_agents)"
   ]
  },
  {
   "cell_type": "code",
   "execution_count": 7,
   "id": "1acaea4d",
   "metadata": {},
   "outputs": [],
   "source": [
    "def maddpg(n_episodes=2000, max_t=10000):\n",
    "    scores_deque = deque(maxlen=100)\n",
    "    scores = []\n",
    "    max_score = -np.Inf\n",
    "    for i_episode in range(1, n_episodes+1):\n",
    "        start_time = time.perf_counter()\n",
    "        env_info = env.reset(train_mode=True)[brain_name]\n",
    "        states = env_info.vector_observations\n",
    "        agent.reset()\n",
    "        episode_scores = np.zeros(num_agents)\n",
    "        for t in range(max_t):\n",
    "            actions = agent.act(states)\n",
    "            env_info = env.step(actions)[brain_name]\n",
    "            next_states = env_info.vector_observations\n",
    "            rewards = env_info.rewards\n",
    "            dones = env_info.local_done\n",
    "            \n",
    "            agent.step(states, actions, rewards, next_states, dones)\n",
    "            \n",
    "            states = next_states\n",
    "            episode_scores += rewards\n",
    "            if np.any(dones):\n",
    "                break \n",
    "        score = max(episode_scores)\n",
    "        scores_deque.append(score)\n",
    "        scores.append(score)\n",
    "        end_time = time.perf_counter()\n",
    "        print('\\rEpisode {}\\tAverage Score: {:.2f}\\tScore: {:.2f} \\tTime/Episode: {:.2f}'.format(i_episode, np.mean(scores_deque), score, (end_time - start_time)), end=\"\")\n",
    "        if i_episode % 100 == 0:\n",
    "            print('\\rEpisode {}\\tAverage Score: {:.2f} \\tTime/Episode: {:.2f}'.format(i_episode, np.mean(scores_deque), (end_time - start_time)))\n",
    "            \n",
    "        if np.mean(scores_deque) >= 0.5:\n",
    "            print('\\nEnvironment solved in {:d} episodes!\\tAverage Score: {:.2f}'.format(i_episode-100, np.mean(scores_deque)))\n",
    "            actor_state_dict = agent.actor_state_dict()\n",
    "            for i in range(num_agents):\n",
    "                torch.save(actor_state_dict[i], 'checkpoint_actor' + str(i) + '.pth')\n",
    "            break\n",
    "    return scores"
   ]
  },
  {
   "cell_type": "code",
   "execution_count": 8,
   "id": "ccbfd3c1",
   "metadata": {},
   "outputs": [
    {
     "name": "stdout",
     "output_type": "stream",
     "text": [
      "Episode 100\tAverage Score: 0.01 \tTime/Episode: 0.22pisode: 0.22\n",
      "Episode 200\tAverage Score: 0.02 \tTime/Episode: 0.22pisode: 0.22\n",
      "Episode 300\tAverage Score: 0.02 \tTime/Episode: 0.22pisode: 0.22\n",
      "Episode 400\tAverage Score: 0.03 \tTime/Episode: 0.23pisode: 0.23\n",
      "Episode 500\tAverage Score: 0.05 \tTime/Episode: 0.47pisode: 0.47\n",
      "Episode 600\tAverage Score: 0.07 \tTime/Episode: 0.48pisode: 0.48\n",
      "Episode 700\tAverage Score: 0.09 \tTime/Episode: 0.47pisode: 0.47\n",
      "Episode 800\tAverage Score: 0.14 \tTime/Episode: 0.47pisode: 0.47\n",
      "Episode 900\tAverage Score: 0.19 \tTime/Episode: 3.45pisode: 3.45\n",
      "Episode 998\tAverage Score: 0.52\tScore: 2.60 \tTime/Episode: 15.58\n",
      "Environment solved in 898 episodes!\tAverage Score: 0.52\n"
     ]
    },
    {
     "data": {
      "image/png": "[encoded data removed]",
      "text/plain": [
       "<Figure size 432x288 with 1 Axes>"
      ]
     },
     "metadata": {
      "needs_background": "light"
     },
     "output_type": "display_data"
    }
   ],
   "source": [
    "scores = maddpg(2000)\n",
    "\n",
    "fig = plt.figure()\n",
    "ax = fig.add_subplot(111)\n",
    "plt.plot(np.arange(1, len(scores)+1), scores)\n",
    "plt.ylabel('Score')\n",
    "plt.xlabel('Episode #')\n",
    "plt.show()"
   ]
  },
  {
   "cell_type": "markdown",
   "id": "58abd019",
   "metadata": {},
   "source": [
    "## 4. Watch Smart Agents"
   ]
  },
  {
   "cell_type": "code",
   "execution_count": 9,
   "id": "55cd1366",
   "metadata": {},
   "outputs": [
    {
     "name": "stdout",
     "output_type": "stream",
     "text": [
      "Total score (max-ed over agents) this episode: 2.7000000402331352\n",
      "Total score (max-ed over agents) this episode: 0.0\n",
      "Total score (max-ed over agents) this episode: 2.600000038743019\n",
      "Total score (max-ed over agents) this episode: 1.4000000208616257\n",
      "Total score (max-ed over agents) this episode: 2.600000038743019\n"
     ]
    }
   ],
   "source": [
    "actor_state_dict_list = [torch.load('checkpoint_actor' + str(i) + '.pth') for i in range(num_agents)]\n",
    "agent.load_actor_state_dict(actor_state_dict_list)\n",
    "\n",
    "for i in range(1, 6):\n",
    "    env_info = env.reset(train_mode=False)[brain_name]     # reset the environment    \n",
    "    states = env_info.vector_observations                  # get the current state (for each agent)\n",
    "    score = np.zeros(num_agents)                           # initialize the score (for each agent)\n",
    "    while True:\n",
    "        actions = agent.act(states)                        # select an action (for each agent)\n",
    "        #action = np.clip(action, -1, 1)                   # all actions between -1 and 1\n",
    "        env_info = env.step(actions)[brain_name]           # send all actions to tne environment\n",
    "        next_states = env_info.vector_observations         # get next state (for each agent)\n",
    "        rewards = env_info.rewards                         # get reward (for each agent)\n",
    "        dones = env_info.local_done                        # see if episode finished\n",
    "        score += env_info.rewards                          # update the score (for each agent)\n",
    "        states = next_states                               # roll over states to next time step\n",
    "        if np.any(dones):                                  # exit loop if episode finished\n",
    "            break\n",
    "    print('Total score (max-ed over agents) this episode: {}'.format(max(score)))"
   ]
  },
  {
   "cell_type": "markdown",
   "id": "1166e485",
   "metadata": {},
   "source": [
    "## 5. Cleanup"
   ]
  },
  {
   "cell_type": "markdown",
   "id": "4cc67eba",
   "metadata": {},
   "source": [
    "When finished, you can close the environment."
   ]
  },
  {
   "cell_type": "code",
   "execution_count": 10,
   "id": "9adf082f",
   "metadata": {},
   "outputs": [],
   "source": [
    "env.close()"
   ]
  }
 ],
 "metadata": {
  "kernelspec": {
   "display_name": "drlnd",
   "language": "python",
   "name": "drlnd"
  },
  "language_info": {
   "codemirror_mode": {
    "name": "ipython",
    "version": 3
   },
   "file_extension": ".py",
   "mimetype": "text/x-python",
   "name": "python",
   "nbconvert_exporter": "python",
   "pygments_lexer": "ipython3",
   "version": "3.6.13"
  }
 },
 "nbformat": 4,
 "nbformat_minor": 5
}
