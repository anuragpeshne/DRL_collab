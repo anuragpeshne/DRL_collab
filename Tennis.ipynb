{
 "cells": [
  {
   "cell_type": "markdown",
   "id": "984a335c",
   "metadata": {},
   "source": [
    "# Collaboration and Competition"
   ]
  },
  {
   "cell_type": "markdown",
   "id": "ea365d6d",
   "metadata": {},
   "source": [
    "## 1. Start the Environment"
   ]
  },
  {
   "cell_type": "code",
   "execution_count": null,
   "id": "642f008b",
   "metadata": {},
   "outputs": [],
   "source": [
    "import gym\n",
    "import numpy as np\n",
    "import random\n",
    "import torch\n",
    "import time # for perf count\n",
    "\n",
    "from collections import deque\n",
    "from unityagents import UnityEnvironment\n",
    "import matplotlib.pyplot as plt\n",
    "%matplotlib inline"
   ]
  },
  {
   "cell_type": "markdown",
   "id": "4db68757",
   "metadata": {},
   "source": [
    "Next, we will start the environment! Before running the code cell below, change the file_name parameter to match the location of the Unity environment that you downloaded.\n",
    "\n",
    "- Mac: \"path/to/Tennis.app\"\n",
    "- Windows (x86): \"path/to/Tennis_Windows_x86/Tennis.exe\"\n",
    "- Windows (x86_64): \"path/to/Tennis_Windows_x86_64/Tennis.exe\"\n",
    "- Linux (x86): \"path/to/Tennis_Linux/Tennis.x86\"\n",
    "- Linux (x86_64): \"path/to/Tennis_Linux/Tennis.x86_64\"\n",
    "- Linux (x86, headless): \"path/to/Tennis_Linux_NoVis/Tennis.x86\"\n",
    "- Linux (x86_64, headless): \"path/to/Tennis_Linux_NoVis/Tennis.x86_64\"\n",
    "\n",
    "For instance, if you are using a Mac, then you downloaded Tennis.app. If this file is in the same folder as the notebook, then the line below should appear as follows:\n",
    "\n",
    "env = UnityEnvironment(file_name=\"Tennis.app\")"
   ]
  },
  {
   "cell_type": "code",
   "execution_count": null,
   "id": "8b93431c",
   "metadata": {},
   "outputs": [],
   "source": [
    "env = UnityEnvironment(file_name=\"unity_env/Tennis.x86_64\")"
   ]
  },
  {
   "cell_type": "markdown",
   "id": "933954ce",
   "metadata": {},
   "source": [
    "Environments contain brains which are responsible for deciding the actions of their associated agents. Here we check for the first brain available, and set it as the default brain we will be controlling from Python."
   ]
  },
  {
   "cell_type": "code",
   "execution_count": null,
   "id": "7aef862e",
   "metadata": {},
   "outputs": [],
   "source": [
    "# get the default brain\n",
    "brain_name = env.brain_names[0]\n",
    "brain = env.brains[brain_name]"
   ]
  },
  {
   "cell_type": "markdown",
   "id": "71f9d724",
   "metadata": {},
   "source": [
    "## 2. Examine the State and Action Spaces"
   ]
  },
  {
   "cell_type": "markdown",
   "id": "f95ec7b6",
   "metadata": {},
   "source": [
    "In this environment, two agents control rackets to bounce a ball over a net. If an agent hits the ball over the net, it receives a reward of +0.1. If an agent lets a ball hit the ground or hits the ball out of bounds, it receives a reward of -0.01. Thus, the goal of each agent is to keep the ball in play.\n",
    "\n",
    "The observation space consists of 8 variables corresponding to the position and velocity of the ball and racket. Two continuous actions are available, corresponding to movement toward (or away from) the net, and jumping.\n",
    "\n",
    "Run the code cell below to print some information about the environment."
   ]
  },
  {
   "cell_type": "code",
   "execution_count": null,
   "id": "9f749194",
   "metadata": {},
   "outputs": [],
   "source": [
    "# reset the environment\n",
    "env_info = env.reset(train_mode=True)[brain_name]\n",
    "\n",
    "# number of agents \n",
    "num_agents = len(env_info.agents)\n",
    "print('Number of agents:', num_agents)\n",
    "\n",
    "# size of each action\n",
    "action_size = brain.vector_action_space_size\n",
    "print('Size of each action:', action_size)\n",
    "\n",
    "# examine the state space \n",
    "states = env_info.vector_observations\n",
    "state_size = states.shape[1]\n",
    "print('There are {} agents. Each observes a state with length: {}'.format(states.shape[0], state_size))\n",
    "print('The state for the first agent looks like:', states[0])"
   ]
  },
  {
   "cell_type": "markdown",
   "id": "5f771c69",
   "metadata": {},
   "source": [
    "## 3. Train Agents with MADDPG"
   ]
  },
  {
   "cell_type": "markdown",
   "id": "bf11d2da",
   "metadata": {},
   "source": [
    "### 3.1 Instantiate Agents"
   ]
  },
  {
   "cell_type": "markdown",
   "id": "e4684640",
   "metadata": {},
   "source": [
    "#### 3.1.1 Create the Shared Replay Buffer\n",
    "\n",
    "In MADDPG, all of the agents share the same Replay Buffer. Create the buffer here once and then pass it to the agents."
   ]
  },
  {
   "cell_type": "code",
   "execution_count": null,
   "id": "9eceefb5",
   "metadata": {},
   "outputs": [],
   "source": [
    "from maddpg_agent import Agent, ReplayBuffer\n",
    "from maddpg_agent import BUFFER_SIZE, BATCH_SIZE\n",
    "\n",
    "random_seed = 12"
   ]
  },
  {
   "cell_type": "code",
   "execution_count": null,
   "id": "278ceb0b",
   "metadata": {},
   "outputs": [],
   "source": [
    "shared_replay_buffer = ReplayBuffer(action_size, BUFFER_SIZE, BATCH_SIZE, random_seed)"
   ]
  },
  {
   "cell_type": "markdown",
   "id": "d311e515",
   "metadata": {},
   "source": [
    "#### 3.1.2 Create Agents"
   ]
  },
  {
   "cell_type": "code",
   "execution_count": null,
   "id": "7a0bfd05",
   "metadata": {},
   "outputs": [],
   "source": [
    "agents = [None] * num_agents\n",
    "for i in range(num_agents):\n",
    "    agents[i] = Agent(state_size=state_size, action_size=action_size, random_seed=random_seed, replay_buffer=shared_replay_buffer)"
   ]
  },
  {
   "cell_type": "code",
   "execution_count": null,
   "id": "978584ef",
   "metadata": {},
   "outputs": [],
   "source": [
    "def forall(seq, f):\n",
    "    for item in seq:\n",
    "        f(item)"
   ]
  },
  {
   "cell_type": "code",
   "execution_count": null,
   "id": "1acaea4d",
   "metadata": {},
   "outputs": [],
   "source": [
    "def maddpg(n_episodes=2000, max_t=10000):\n",
    "    scores_deque = deque(maxlen=100)\n",
    "    scores = []\n",
    "    max_score = -np.Inf\n",
    "    for i_episode in range(1, n_episodes+1):\n",
    "        start_time = time.perf_counter()\n",
    "        env_info = env.reset(train_mode=True)[brain_name]\n",
    "        states = env_info.vector_observations\n",
    "        forall(agents, lambda agent: agent.reset())\n",
    "        episode_scores = np.zeros(num_agents)\n",
    "        for t in range(max_t):\n",
    "            actions = [agent.act(state) for agent, state in zip(agents, states)]\n",
    "            env_info = env.step(actions)[brain_name]\n",
    "            next_states = env_info.vector_observations\n",
    "            rewards = env_info.rewards\n",
    "            dones = env_info.local_done\n",
    "            \n",
    "            for i in range(num_agents):\n",
    "                agents[i].step(states[i], actions[i], rewards[i], next_states[i], dones[i])\n",
    "            \n",
    "            states = next_states\n",
    "            episode_scores += rewards\n",
    "            if np.any(dones):\n",
    "                break \n",
    "        score = max(episode_scores)\n",
    "        scores_deque.append(score)\n",
    "        scores.append(score)\n",
    "        end_time = time.perf_counter()\n",
    "        print('\\rEpisode {}\\tAverage Score: {:.2f}\\tScore: {:.2f} \\tTime/Episode: {:.2f}'.format(i_episode, np.mean(scores_deque), score, (end_time - start_time)), end=\"\")\n",
    "        if i_episode % 100 == 0:\n",
    "            print('\\rEpisode {}\\tAverage Score: {:.2f} \\tTime/Episode: {:.2f}'.format(i_episode, np.mean(scores_deque), (end_time - start_time)))\n",
    "            \n",
    "        if np.mean(scores_deque) >= 0.5:\n",
    "            print('\\nEnvironment solved in {:d} episodes!\\tAverage Score: {:.2f}'.format(i_episode-100, np.mean(scores_deque)))\n",
    "            torch.save(agent.actor_local.state_dict(), 'checkpoint_actor.pth')\n",
    "            break\n",
    "    return scores"
   ]
  },
  {
   "cell_type": "code",
   "execution_count": null,
   "id": "ccbfd3c1",
   "metadata": {},
   "outputs": [],
   "source": [
    "scores = maddpg(100)\n",
    "\n",
    "fig = plt.figure()\n",
    "ax = fig.add_subplot(111)\n",
    "plt.plot(np.arange(1, len(scores)+1), scores)\n",
    "plt.ylabel('Score')\n",
    "plt.xlabel('Episode #')\n",
    "plt.show()"
   ]
  },
  {
   "cell_type": "markdown",
   "id": "58abd019",
   "metadata": {},
   "source": [
    "## 4. Watch Smart Agents"
   ]
  },
  {
   "cell_type": "code",
   "execution_count": null,
   "id": "55cd1366",
   "metadata": {},
   "outputs": [],
   "source": [
    "agent.actor_local.load_state_dict(torch.load('checkpoint_actor.pth'))\n",
    "\n",
    "for i in range(1, 6):\n",
    "    env_info = env.reset(train_mode=False)[brain_name]     # reset the environment    \n",
    "    state = env_info.vector_observations[0]                # get the current state (for each agent)\n",
    "    score = np.zeros(num_agents)                           # initialize the score (for each agent)\n",
    "    while True:\n",
    "        action = agent.act(state)                          # select an action (for each agent)\n",
    "        action = np.clip(action, -1, 1)                    # all actions between -1 and 1\n",
    "        env_info = env.step(action)[brain_name]            # send all actions to tne environment\n",
    "        next_state = env_info.vector_observations[0]       # get next state (for each agent)\n",
    "        reward = env_info.rewards[0]                       # get reward (for each agent)\n",
    "        done = env_info.local_done[0]                      # see if episode finished\n",
    "        score += env_info.rewards[0]                       # update the score (for each agent)\n",
    "        state = next_state                                 # roll over states to next time step\n",
    "        if done:                                           # exit loop if episode finished\n",
    "            break\n",
    "    print('Total score (averaged over agents) this episode: {}'.format(score))"
   ]
  },
  {
   "cell_type": "markdown",
   "id": "1166e485",
   "metadata": {},
   "source": [
    "## 5. Cleanup"
   ]
  },
  {
   "cell_type": "markdown",
   "id": "4cc67eba",
   "metadata": {},
   "source": [
    "When finished, you can close the environment."
   ]
  },
  {
   "cell_type": "code",
   "execution_count": null,
   "id": "9adf082f",
   "metadata": {},
   "outputs": [],
   "source": [
    "env.close()"
   ]
  }
 ],
 "metadata": {
  "kernelspec": {
   "display_name": "drlnd",
   "language": "python",
   "name": "drlnd"
  },
  "language_info": {
   "codemirror_mode": {
    "name": "ipython",
    "version": 3
   },
   "file_extension": ".py",
   "mimetype": "text/x-python",
   "name": "python",
   "nbconvert_exporter": "python",
   "pygments_lexer": "ipython3",
   "version": "3.6.13"
  }
 },
 "nbformat": 4,
 "nbformat_minor": 5
}
